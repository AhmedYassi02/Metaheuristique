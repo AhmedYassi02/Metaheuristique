{
 "cells": [
  {
   "cell_type": "code",
   "execution_count": 26,
   "metadata": {},
   "outputs": [],
   "source": [
    "import random\n",
    "from instances import get_instances\n",
    "import numpy as np\n",
    "import pandas as pd\n",
    "from heuristique_de_reparation import reparation, gen_sol_initiale\n",
    "from structure_de_voisinage import gen_voisin_perm\n",
    "from meta_genetique import genetic_algo\n",
    "import json\n",
    "from tqdm import tqdm"
   ]
  },
  {
   "cell_type": "code",
   "execution_count": 27,
   "metadata": {},
   "outputs": [],
   "source": [
    "files = [f'instances/mknapcb{i}' for i in range(1, 10)]"
   ]
  },
  {
   "cell_type": "code",
   "execution_count": 28,
   "metadata": {},
   "outputs": [
    {
     "name": "stderr",
     "output_type": "stream",
     "text": [
      "Traitement des fichiers:   0%|          | 0/9 [00:00<?, ?fichier/s]C:\\Users\\AHMED-YASSINE\\AppData\\Local\\Temp\\ipykernel_7460\\508616465.py:27: FutureWarning: The behavior of DataFrame concatenation with empty or all-NA entries is deprecated. In a future version, this will no longer exclude empty or all-NA columns when determining the result dtypes. To retain the old behavior, exclude the relevant entries before the concat operation.\n",
      "  df = pd.concat([df, pd.DataFrame(infos)])\n",
      "Traitement des fichiers: 100%|██████████| 9/9 [17:05<00:00, 113.91s/fichier]\n"
     ]
    }
   ],
   "source": [
    "df = pd.DataFrame(columns=['file','instance', 'opt_value', 'value_genetic', 'gap'])\n",
    "with tqdm(total=len(files), desc=\"Traitement des fichiers\", unit=\"fichier\") as overall_progress:\n",
    "    for file in files : \n",
    "        inst_file = file + '.txt'\n",
    "        with open(file + '_sol.json', 'r') as f:\n",
    "            opt_val_file = list(json.load(f).values())\n",
    "        \n",
    "        instances = get_instances(inst_file)\n",
    "        with tqdm(total=len(instances), desc=f\"Traitement de {file}\", leave=False, unit=\"instance\") as file_progress:\n",
    "            for i in range(len(instances)):\n",
    "                ins = instances[i]\n",
    "                ins[\"opt_value\"] = opt_val_file[i]\n",
    "                \n",
    "                c = ins[\"gains\"]\n",
    "                a = np.array(ins[\"ressources\"])\n",
    "                b = ins[\"quantite_ressources\"]\n",
    "                N = len(c)\n",
    "                M = len(b)\n",
    "                x_best, best_value = genetic_algo(N, M, c, a, b, max_iter=200, pop_size=100)\n",
    "                infos = infos = {\n",
    "                    'file': [file.split('/')[-1]],\n",
    "                    'instance': [i],\n",
    "                    'opt_value': [float(ins[\"opt_value\"])],\n",
    "                    'value_genetic': [best_value],\n",
    "                    'gap':[ (float(ins[\"opt_value\"]) - best_value) / float(ins[\"opt_value\"])*100]\n",
    "                }\n",
    "                df = pd.concat([df, pd.DataFrame(infos)])\n",
    "                file_progress.update(1)\n",
    "        overall_progress.update(1)\n",
    "\n",
    "    "
   ]
  },
  {
   "cell_type": "code",
   "execution_count": 47,
   "metadata": {},
   "outputs": [
    {
     "name": "stdout",
     "output_type": "stream",
     "text": [
      "\\begin{table}[]\n",
      "\\centering\n",
      "\\begin{tabular}{llrrr}\n",
      "\\toprule\n",
      "file & instance & opt_value & value_genetic & gap \\\\\n",
      "\\midrule\n",
      "mknapcb9 & 0 & 115868.0 & 109046.0 & 5.9 \\\\\n",
      "mknapcb9 & 1 & 114667.0 & 107188.0 & 6.5 \\\\\n",
      "mknapcb9 & 2 & 116661.0 & 108981.0 & 6.6 \\\\\n",
      "mknapcb9 & 3 & 115237.0 & 107989.0 & 6.3 \\\\\n",
      "mknapcb9 & 4 & 116353.0 & 109248.0 & 6.1 \\\\\n",
      "mknapcb9 & 5 & 115604.0 & 108471.0 & 6.2 \\\\\n",
      "mknapcb9 & 6 & 113952.0 & 108422.0 & 4.9 \\\\\n",
      "mknapcb9 & 7 & 114199.0 & 107366.0 & 6.0 \\\\\n",
      "mknapcb9 & 8 & 115247.0 & 108026.0 & 6.3 \\\\\n",
      "mknapcb9 & 9 & 116947.0 & 110523.0 & 5.5 \\\\\n",
      "mknapcb9 & 10 & 217995.0 & 198502.0 & 8.9 \\\\\n",
      "mknapcb9 & 11 & 214534.0 & 192067.0 & 10.5 \\\\\n",
      "mknapcb9 & 12 & 215854.0 & 190685.0 & 11.7 \\\\\n",
      "mknapcb9 & 13 & 217836.0 & 193316.0 & 11.3 \\\\\n",
      "mknapcb9 & 14 & 215566.0 & 193234.0 & 10.4 \\\\\n",
      "mknapcb9 & 15 & 215762.0 & 192837.0 & 10.6 \\\\\n",
      "mknapcb9 & 16 & 215772.0 & 195188.0 & 9.5 \\\\\n",
      "mknapcb9 & 17 & 216336.0 & 192864.0 & 10.8 \\\\\n",
      "mknapcb9 & 18 & 217290.0 & 195480.0 & 10.0 \\\\\n",
      "mknapcb9 & 19 & 214624.0 & 193232.0 & 10.0 \\\\\n",
      "mknapcb9 & 20 & 301627.0 & 292892.0 & 2.9 \\\\\n",
      "mknapcb9 & 21 & 299985.0 & 291045.0 & 3.0 \\\\\n",
      "mknapcb9 & 22 & 304995.0 & 297412.0 & 2.5 \\\\\n",
      "mknapcb9 & 23 & 301935.0 & 294518.0 & 2.5 \\\\\n",
      "mknapcb9 & 24 & 304404.0 & 296321.0 & 2.7 \\\\\n",
      "mknapcb9 & 25 & 296894.0 & 290592.0 & 2.1 \\\\\n",
      "mknapcb9 & 26 & 303233.0 & 295551.0 & 2.5 \\\\\n",
      "mknapcb9 & 27 & 306944.0 & 297832.0 & 3.0 \\\\\n",
      "mknapcb9 & 28 & 303057.0 & 295336.0 & 2.5 \\\\\n",
      "mknapcb9 & 29 & 300460.0 & 291380.0 & 3.0 \\\\\n",
      "\\bottomrule\n",
      "\\end{tabular}\n",
      "\n",
      "\\caption{Résultats pour l'instance mknapcb9}\n",
      "\\label{tab:my_label}\n",
      "\\end{table}\n"
     ]
    }
   ],
   "source": [
    "file = \"mknapcb9\"\n",
    "caption = \"{\"+ f\"Résultats pour l'instance {file}\" + \"}\"\n",
    "print( \"\\\\begin{table}[]\\n\\centering\")\n",
    "print(df.query(\"file == @file\").to_latex(index=False, formatters={\"name\": str.upper},\n",
    "                  float_format=\"{:.1f}\".format,))\n",
    "print(f\"\\caption{caption}\")\n",
    "print(\"\\label{tab:my_label}\")\n",
    "print(\"\\end{table}\")\n",
    "      "
   ]
  }
 ],
 "metadata": {
  "kernelspec": {
   "display_name": "Python 3",
   "language": "python",
   "name": "python3"
  },
  "language_info": {
   "codemirror_mode": {
    "name": "ipython",
    "version": 3
   },
   "file_extension": ".py",
   "mimetype": "text/x-python",
   "name": "python",
   "nbconvert_exporter": "python",
   "pygments_lexer": "ipython3",
   "version": "3.10.8"
  }
 },
 "nbformat": 4,
 "nbformat_minor": 2
}
